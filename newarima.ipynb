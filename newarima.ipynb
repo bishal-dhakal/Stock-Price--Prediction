{
 "cells": [
  {
   "cell_type": "code",
   "execution_count": 276,
   "metadata": {},
   "outputs": [],
   "source": [
    "#%pip install pmdarima"
   ]
  },
  {
   "cell_type": "code",
   "execution_count": 277,
   "metadata": {},
   "outputs": [],
   "source": [
    "import pandas as pd\n",
    "import numpy as np\n",
    "import matplotlib.pyplot as plt"
   ]
  },
  {
   "cell_type": "code",
   "execution_count": 278,
   "metadata": {},
   "outputs": [],
   "source": [
    "df = pd.read_csv('./Data/GBIMEfinal.csv')"
   ]
  },
  {
   "cell_type": "code",
   "execution_count": 279,
   "metadata": {},
   "outputs": [
    {
     "data": {
      "text/plain": [
       "Unnamed: 0    0\n",
       "t             0\n",
       "c             0\n",
       "o             0\n",
       "h             0\n",
       "l             0\n",
       "v             0\n",
       "dtype: int64"
      ]
     },
     "execution_count": 279,
     "metadata": {},
     "output_type": "execute_result"
    }
   ],
   "source": [
    "df.isnull().sum()"
   ]
  },
  {
   "cell_type": "code",
   "execution_count": 280,
   "metadata": {},
   "outputs": [],
   "source": [
    "df.drop('Unnamed: 0',axis=1,inplace=True)"
   ]
  },
  {
   "cell_type": "code",
   "execution_count": 281,
   "metadata": {},
   "outputs": [
    {
     "data": {
      "text/html": [
       "<div>\n",
       "<style scoped>\n",
       "    .dataframe tbody tr th:only-of-type {\n",
       "        vertical-align: middle;\n",
       "    }\n",
       "\n",
       "    .dataframe tbody tr th {\n",
       "        vertical-align: top;\n",
       "    }\n",
       "\n",
       "    .dataframe thead th {\n",
       "        text-align: right;\n",
       "    }\n",
       "</style>\n",
       "<table border=\"1\" class=\"dataframe\">\n",
       "  <thead>\n",
       "    <tr style=\"text-align: right;\">\n",
       "      <th></th>\n",
       "      <th>t</th>\n",
       "      <th>c</th>\n",
       "      <th>o</th>\n",
       "      <th>h</th>\n",
       "      <th>l</th>\n",
       "      <th>v</th>\n",
       "    </tr>\n",
       "  </thead>\n",
       "  <tbody>\n",
       "    <tr>\n",
       "      <th>0</th>\n",
       "      <td>2012-09-09</td>\n",
       "      <td>46.052427</td>\n",
       "      <td>46.052427</td>\n",
       "      <td>46.052427</td>\n",
       "      <td>42.894547</td>\n",
       "      <td>50</td>\n",
       "    </tr>\n",
       "    <tr>\n",
       "      <th>1</th>\n",
       "      <td>2012-09-10</td>\n",
       "      <td>50.526092</td>\n",
       "      <td>46.052427</td>\n",
       "      <td>50.526092</td>\n",
       "      <td>46.841898</td>\n",
       "      <td>254</td>\n",
       "    </tr>\n",
       "    <tr>\n",
       "      <th>2</th>\n",
       "      <td>2012-09-11</td>\n",
       "      <td>55.526070</td>\n",
       "      <td>50.526092</td>\n",
       "      <td>55.526070</td>\n",
       "      <td>51.315562</td>\n",
       "      <td>376</td>\n",
       "    </tr>\n",
       "    <tr>\n",
       "      <th>3</th>\n",
       "      <td>2012-09-12</td>\n",
       "      <td>61.052361</td>\n",
       "      <td>55.526070</td>\n",
       "      <td>61.052361</td>\n",
       "      <td>56.578697</td>\n",
       "      <td>1131</td>\n",
       "    </tr>\n",
       "    <tr>\n",
       "      <th>4</th>\n",
       "      <td>2012-09-13</td>\n",
       "      <td>67.104966</td>\n",
       "      <td>61.052361</td>\n",
       "      <td>67.104966</td>\n",
       "      <td>62.104988</td>\n",
       "      <td>27430</td>\n",
       "    </tr>\n",
       "    <tr>\n",
       "      <th>...</th>\n",
       "      <td>...</td>\n",
       "      <td>...</td>\n",
       "      <td>...</td>\n",
       "      <td>...</td>\n",
       "      <td>...</td>\n",
       "      <td>...</td>\n",
       "    </tr>\n",
       "    <tr>\n",
       "      <th>1992</th>\n",
       "      <td>2023-05-07</td>\n",
       "      <td>183.000000</td>\n",
       "      <td>187.000000</td>\n",
       "      <td>187.000000</td>\n",
       "      <td>183.000000</td>\n",
       "      <td>49157</td>\n",
       "    </tr>\n",
       "    <tr>\n",
       "      <th>1993</th>\n",
       "      <td>2023-05-08</td>\n",
       "      <td>181.500000</td>\n",
       "      <td>186.000000</td>\n",
       "      <td>186.000000</td>\n",
       "      <td>180.200000</td>\n",
       "      <td>70629</td>\n",
       "    </tr>\n",
       "    <tr>\n",
       "      <th>1994</th>\n",
       "      <td>2023-05-09</td>\n",
       "      <td>183.200000</td>\n",
       "      <td>184.900000</td>\n",
       "      <td>184.900000</td>\n",
       "      <td>180.400000</td>\n",
       "      <td>59202</td>\n",
       "    </tr>\n",
       "    <tr>\n",
       "      <th>1995</th>\n",
       "      <td>2023-05-10</td>\n",
       "      <td>183.200000</td>\n",
       "      <td>185.000000</td>\n",
       "      <td>185.000000</td>\n",
       "      <td>182.200000</td>\n",
       "      <td>30993</td>\n",
       "    </tr>\n",
       "    <tr>\n",
       "      <th>1996</th>\n",
       "      <td>2023-05-11</td>\n",
       "      <td>182.300000</td>\n",
       "      <td>185.000000</td>\n",
       "      <td>185.000000</td>\n",
       "      <td>182.000000</td>\n",
       "      <td>30993</td>\n",
       "    </tr>\n",
       "  </tbody>\n",
       "</table>\n",
       "<p>1997 rows × 6 columns</p>\n",
       "</div>"
      ],
      "text/plain": [
       "               t           c           o           h           l      v\n",
       "0     2012-09-09   46.052427   46.052427   46.052427   42.894547     50\n",
       "1     2012-09-10   50.526092   46.052427   50.526092   46.841898    254\n",
       "2     2012-09-11   55.526070   50.526092   55.526070   51.315562    376\n",
       "3     2012-09-12   61.052361   55.526070   61.052361   56.578697   1131\n",
       "4     2012-09-13   67.104966   61.052361   67.104966   62.104988  27430\n",
       "...          ...         ...         ...         ...         ...    ...\n",
       "1992  2023-05-07  183.000000  187.000000  187.000000  183.000000  49157\n",
       "1993  2023-05-08  181.500000  186.000000  186.000000  180.200000  70629\n",
       "1994  2023-05-09  183.200000  184.900000  184.900000  180.400000  59202\n",
       "1995  2023-05-10  183.200000  185.000000  185.000000  182.200000  30993\n",
       "1996  2023-05-11  182.300000  185.000000  185.000000  182.000000  30993\n",
       "\n",
       "[1997 rows x 6 columns]"
      ]
     },
     "execution_count": 281,
     "metadata": {},
     "output_type": "execute_result"
    }
   ],
   "source": [
    "df['t'] = pd.to_datetime(df['t']).dt.date\n",
    "df"
   ]
  },
  {
   "cell_type": "code",
   "execution_count": 282,
   "metadata": {},
   "outputs": [
    {
     "data": {
      "text/html": [
       "<div>\n",
       "<style scoped>\n",
       "    .dataframe tbody tr th:only-of-type {\n",
       "        vertical-align: middle;\n",
       "    }\n",
       "\n",
       "    .dataframe tbody tr th {\n",
       "        vertical-align: top;\n",
       "    }\n",
       "\n",
       "    .dataframe thead th {\n",
       "        text-align: right;\n",
       "    }\n",
       "</style>\n",
       "<table border=\"1\" class=\"dataframe\">\n",
       "  <thead>\n",
       "    <tr style=\"text-align: right;\">\n",
       "      <th></th>\n",
       "      <th>c</th>\n",
       "    </tr>\n",
       "    <tr>\n",
       "      <th>t</th>\n",
       "      <th></th>\n",
       "    </tr>\n",
       "  </thead>\n",
       "  <tbody>\n",
       "    <tr>\n",
       "      <th>2012-09-09</th>\n",
       "      <td>46.052427</td>\n",
       "    </tr>\n",
       "    <tr>\n",
       "      <th>2012-09-10</th>\n",
       "      <td>50.526092</td>\n",
       "    </tr>\n",
       "    <tr>\n",
       "      <th>2012-09-11</th>\n",
       "      <td>55.526070</td>\n",
       "    </tr>\n",
       "    <tr>\n",
       "      <th>2012-09-12</th>\n",
       "      <td>61.052361</td>\n",
       "    </tr>\n",
       "    <tr>\n",
       "      <th>2012-09-13</th>\n",
       "      <td>67.104966</td>\n",
       "    </tr>\n",
       "    <tr>\n",
       "      <th>...</th>\n",
       "      <td>...</td>\n",
       "    </tr>\n",
       "    <tr>\n",
       "      <th>2023-05-07</th>\n",
       "      <td>183.000000</td>\n",
       "    </tr>\n",
       "    <tr>\n",
       "      <th>2023-05-08</th>\n",
       "      <td>181.500000</td>\n",
       "    </tr>\n",
       "    <tr>\n",
       "      <th>2023-05-09</th>\n",
       "      <td>183.200000</td>\n",
       "    </tr>\n",
       "    <tr>\n",
       "      <th>2023-05-10</th>\n",
       "      <td>183.200000</td>\n",
       "    </tr>\n",
       "    <tr>\n",
       "      <th>2023-05-11</th>\n",
       "      <td>182.300000</td>\n",
       "    </tr>\n",
       "  </tbody>\n",
       "</table>\n",
       "<p>1997 rows × 1 columns</p>\n",
       "</div>"
      ],
      "text/plain": [
       "                     c\n",
       "t                     \n",
       "2012-09-09   46.052427\n",
       "2012-09-10   50.526092\n",
       "2012-09-11   55.526070\n",
       "2012-09-12   61.052361\n",
       "2012-09-13   67.104966\n",
       "...                ...\n",
       "2023-05-07  183.000000\n",
       "2023-05-08  181.500000\n",
       "2023-05-09  183.200000\n",
       "2023-05-10  183.200000\n",
       "2023-05-11  182.300000\n",
       "\n",
       "[1997 rows x 1 columns]"
      ]
     },
     "execution_count": 282,
     "metadata": {},
     "output_type": "execute_result"
    }
   ],
   "source": [
    "df = df.set_index('t')\n",
    "df = df[['c']].copy()\n",
    "df\n"
   ]
  },
  {
   "cell_type": "code",
   "execution_count": 283,
   "metadata": {},
   "outputs": [],
   "source": [
    "# df.index\n"
   ]
  },
  {
   "cell_type": "code",
   "execution_count": 284,
   "metadata": {},
   "outputs": [
    {
     "data": {
      "text/plain": [
       "<Axes: xlabel='t'>"
      ]
     },
     "execution_count": 284,
     "metadata": {},
     "output_type": "execute_result"
    },
    {
     "data": {
      "image/png": "[encoded data removed]",
      "text/plain": [
       "<Figure size 1200x500 with 1 Axes>"
      ]
     },
     "metadata": {},
     "output_type": "display_data"
    }
   ],
   "source": [
    "df['c'].plot(figsize=(12,5))"
   ]
  },
  {
   "cell_type": "code",
   "execution_count": 285,
   "metadata": {},
   "outputs": [
    {
     "data": {
      "text/plain": [
       "1"
      ]
     },
     "execution_count": 285,
     "metadata": {},
     "output_type": "execute_result"
    }
   ],
   "source": [
    "from pmdarima.arima import ndiffs\n",
    "kpss_diff = ndiffs(df['c'].values, alpha=0.05, test='kpss', max_d=12)\n",
    "adf_diff = ndiffs(df['c'].values, alpha=0.05, test='adf', max_d=12)\n",
    "n_diffs = max(adf_diff , kpss_diff )\n",
    "n_diffs"
   ]
  },
  {
   "cell_type": "code",
   "execution_count": 286,
   "metadata": {},
   "outputs": [],
   "source": [
    "from statsmodels.tsa.stattools import adfuller\n",
    "\n",
    "def ad_test(dataset):\n",
    "    dftest = adfuller(dataset,autolag='AIC')\n",
    "    print(\"1. ADF :\",dftest[0])\n",
    "    print(\"2. P-Value :\",dftest[1])\n",
    "    print(\"3. Number of Lag :\",dftest[2])\n",
    "    print(\"4. Number of Observations Used for ADF Regression and Critical Values Calcualtion :\",dftest[3])\n",
    "    print(\"5. Critical Values :\")\n",
    "    for key, val in dftest[4].items():\n",
    "        print(\"\\t\", key,\" :\",val)"
   ]
  },
  {
   "cell_type": "code",
   "execution_count": 287,
   "metadata": {},
   "outputs": [
    {
     "name": "stdout",
     "output_type": "stream",
     "text": [
      "1. ADF : -2.291983140502449\n",
      "2. P-Value : 0.17456660617484832\n",
      "3. Number of Lag : 14\n",
      "4. Number of Observations Used for ADF Regression and Critical Values Calcualtion : 1982\n",
      "5. Critical Values :\n",
      "\t 1%  : -3.4336536273681078\n",
      "\t 5%  : -2.862999357426174\n",
      "\t 10%  : -2.567546900734257\n"
     ]
    }
   ],
   "source": [
    "ad_test(df['c'])"
   ]
  },
  {
   "cell_type": "code",
   "execution_count": 288,
   "metadata": {},
   "outputs": [],
   "source": [
    "# from statsmodels.graphics.tsaplots import plot_acf\n",
    "\n",
    "# fig, (ax1,ax2) = plt.subplots(1,2,figsize=(16,4))\n",
    "\n",
    "# ax1.plot(df.c)\n",
    "# ax1.set_title('Original')\n",
    "# #add ; at the end of the plot functions so thatr plot is not duplicated\n",
    "# plot_acf(df.c,ax=ax2);"
   ]
  },
  {
   "cell_type": "code",
   "execution_count": 289,
   "metadata": {},
   "outputs": [],
   "source": [
    "# diff = df.c.diff().dropna()\n",
    "\n",
    "# fig, (ax1,ax2) = plt.subplots(1,2,figsize=(16,4))\n",
    "\n",
    "# ax1.plot(diff)\n",
    "# ax1.set_title(\"Difference once\")\n",
    "# plot_acf(diff,ax=ax2);\n"
   ]
  },
  {
   "cell_type": "code",
   "execution_count": 290,
   "metadata": {},
   "outputs": [],
   "source": [
    "# diff = df.c.diff().diff().dropna()\n",
    "\n",
    "# fig, (ax1,ax2) = plt.subplots(1,2,figsize=(16,4))\n",
    "\n",
    "# ax1.plot(diff)\n",
    "# ax1.set_title(\"Difference twice\")\n",
    "# plot_acf(diff,ax=ax2);\n"
   ]
  },
  {
   "cell_type": "code",
   "execution_count": 291,
   "metadata": {},
   "outputs": [
    {
     "data": {
      "text/plain": [
       "1"
      ]
     },
     "execution_count": 291,
     "metadata": {},
     "output_type": "execute_result"
    }
   ],
   "source": [
    "from pmdarima.arima.utils import ndiffs\n",
    "ndiffs(df.c,test='adf')"
   ]
  },
  {
   "cell_type": "code",
   "execution_count": 292,
   "metadata": {},
   "outputs": [],
   "source": [
    "# from statsmodels.graphics.tsaplots import plot_pacf\n",
    "# diff = df.c.diff().diff().dropna()\n",
    "\n",
    "# fig, (ax1,ax2) = plt.subplots(1,2,figsize=(16,4))\n",
    "\n",
    "# ax1.plot(diff)\n",
    "# ax1.set_title(\"Difference once\")\n",
    "# ax2.set_ylim(0,1)\n",
    "# plot_pacf(diff,ax=ax2);"
   ]
  },
  {
   "cell_type": "code",
   "execution_count": 293,
   "metadata": {},
   "outputs": [],
   "source": [
    "# diff = df.c.diff().diff().dropna()\n",
    "\n",
    "# fig, (ax1,ax2) = plt.subplots(1,2,figsize=(16,4))\n",
    "\n",
    "# ax1.plot(diff)\n",
    "# ax1.set_title(\"Difference twice\")\n",
    "# ax2.set_ylim(0,1)\n",
    "# plot_acf(diff,ax=ax2);"
   ]
  },
  {
   "cell_type": "code",
   "execution_count": 294,
   "metadata": {},
   "outputs": [
    {
     "name": "stdout",
     "output_type": "stream",
     "text": [
      "Performing stepwise search to minimize aic\n",
      " ARIMA(2,1,2)(0,0,0)[0] intercept   : AIC=11626.688, Time=2.08 sec\n",
      " ARIMA(0,1,0)(0,0,0)[0] intercept   : AIC=11651.585, Time=0.03 sec\n",
      " ARIMA(1,1,0)(0,0,0)[0] intercept   : AIC=11634.675, Time=0.09 sec\n",
      " ARIMA(0,1,1)(0,0,0)[0] intercept   : AIC=11632.351, Time=0.18 sec\n",
      " ARIMA(0,1,0)(0,0,0)[0]             : AIC=11650.049, Time=0.04 sec\n",
      " ARIMA(1,1,2)(0,0,0)[0] intercept   : AIC=11626.846, Time=0.76 sec\n",
      " ARIMA(2,1,1)(0,0,0)[0] intercept   : AIC=11626.826, Time=0.66 sec\n",
      " ARIMA(3,1,2)(0,0,0)[0] intercept   : AIC=11617.609, Time=2.30 sec\n",
      " ARIMA(3,1,1)(0,0,0)[0] intercept   : AIC=11626.804, Time=0.90 sec\n",
      " ARIMA(4,1,2)(0,0,0)[0] intercept   : AIC=11618.751, Time=3.49 sec\n",
      " ARIMA(3,1,3)(0,0,0)[0] intercept   : AIC=11625.751, Time=4.01 sec\n",
      " ARIMA(2,1,3)(0,0,0)[0] intercept   : AIC=11616.587, Time=5.08 sec\n",
      " ARIMA(1,1,3)(0,0,0)[0] intercept   : AIC=11627.459, Time=1.29 sec\n",
      " ARIMA(2,1,4)(0,0,0)[0] intercept   : AIC=11618.819, Time=6.34 sec\n",
      " ARIMA(1,1,4)(0,0,0)[0] intercept   : AIC=11629.352, Time=2.53 sec\n",
      " ARIMA(3,1,4)(0,0,0)[0] intercept   : AIC=11619.045, Time=5.65 sec\n",
      " ARIMA(2,1,3)(0,0,0)[0]             : AIC=11614.980, Time=1.18 sec\n",
      " ARIMA(1,1,3)(0,0,0)[0]             : AIC=11625.854, Time=0.42 sec\n",
      " ARIMA(2,1,2)(0,0,0)[0]             : AIC=11624.924, Time=0.87 sec\n",
      " ARIMA(3,1,3)(0,0,0)[0]             : AIC=11624.082, Time=1.70 sec\n",
      " ARIMA(2,1,4)(0,0,0)[0]             : AIC=11617.225, Time=1.27 sec\n",
      " ARIMA(1,1,2)(0,0,0)[0]             : AIC=11625.261, Time=0.36 sec\n",
      " ARIMA(1,1,4)(0,0,0)[0]             : AIC=11627.751, Time=0.55 sec\n",
      " ARIMA(3,1,2)(0,0,0)[0]             : AIC=11615.996, Time=2.14 sec\n",
      " ARIMA(3,1,4)(0,0,0)[0]             : AIC=11617.234, Time=2.09 sec\n",
      "\n",
      "Best model:  ARIMA(2,1,3)(0,0,0)[0]          \n",
      "Total fit time: 46.051 seconds\n"
     ]
    },
    {
     "data": {
      "text/html": [
       "<table class=\"simpletable\">\n",
       "<caption>SARIMAX Results</caption>\n",
       "<tr>\n",
       "  <th>Dep. Variable:</th>           <td>y</td>        <th>  No. Observations:  </th>   <td>1997</td>   \n",
       "</tr>\n",
       "<tr>\n",
       "  <th>Model:</th>           <td>SARIMAX(2, 1, 3)</td> <th>  Log Likelihood     </th> <td>-5801.490</td>\n",
       "</tr>\n",
       "<tr>\n",
       "  <th>Date:</th>            <td>Mon, 12 Jun 2023</td> <th>  AIC                </th> <td>11614.980</td>\n",
       "</tr>\n",
       "<tr>\n",
       "  <th>Time:</th>                <td>23:35:47</td>     <th>  BIC                </th> <td>11648.573</td>\n",
       "</tr>\n",
       "<tr>\n",
       "  <th>Sample:</th>                  <td>0</td>        <th>  HQIC               </th> <td>11627.316</td>\n",
       "</tr>\n",
       "<tr>\n",
       "  <th></th>                      <td> - 1997</td>     <th>                     </th>     <td> </td>    \n",
       "</tr>\n",
       "<tr>\n",
       "  <th>Covariance Type:</th>        <td>opg</td>       <th>                     </th>     <td> </td>    \n",
       "</tr>\n",
       "</table>\n",
       "<table class=\"simpletable\">\n",
       "<tr>\n",
       "     <td></td>       <th>coef</th>     <th>std err</th>      <th>z</th>      <th>P>|z|</th>  <th>[0.025</th>    <th>0.975]</th>  \n",
       "</tr>\n",
       "<tr>\n",
       "  <th>ar.L1</th>  <td>   -0.8673</td> <td>    0.034</td> <td>  -25.181</td> <td> 0.000</td> <td>   -0.935</td> <td>   -0.800</td>\n",
       "</tr>\n",
       "<tr>\n",
       "  <th>ar.L2</th>  <td>   -0.9222</td> <td>    0.031</td> <td>  -29.429</td> <td> 0.000</td> <td>   -0.984</td> <td>   -0.861</td>\n",
       "</tr>\n",
       "<tr>\n",
       "  <th>ma.L1</th>  <td>    0.9785</td> <td>    0.036</td> <td>   26.849</td> <td> 0.000</td> <td>    0.907</td> <td>    1.050</td>\n",
       "</tr>\n",
       "<tr>\n",
       "  <th>ma.L2</th>  <td>    0.9870</td> <td>    0.039</td> <td>   25.149</td> <td> 0.000</td> <td>    0.910</td> <td>    1.064</td>\n",
       "</tr>\n",
       "<tr>\n",
       "  <th>ma.L3</th>  <td>    0.1104</td> <td>    0.017</td> <td>    6.600</td> <td> 0.000</td> <td>    0.078</td> <td>    0.143</td>\n",
       "</tr>\n",
       "<tr>\n",
       "  <th>sigma2</th> <td>   19.5929</td> <td>    0.302</td> <td>   64.843</td> <td> 0.000</td> <td>   19.001</td> <td>   20.185</td>\n",
       "</tr>\n",
       "</table>\n",
       "<table class=\"simpletable\">\n",
       "<tr>\n",
       "  <th>Ljung-Box (L1) (Q):</th>     <td>0.01</td> <th>  Jarque-Bera (JB):  </th> <td>4315.72</td>\n",
       "</tr>\n",
       "<tr>\n",
       "  <th>Prob(Q):</th>                <td>0.93</td> <th>  Prob(JB):          </th>  <td>0.00</td>  \n",
       "</tr>\n",
       "<tr>\n",
       "  <th>Heteroskedasticity (H):</th> <td>1.93</td> <th>  Skew:              </th>  <td>1.03</td>  \n",
       "</tr>\n",
       "<tr>\n",
       "  <th>Prob(H) (two-sided):</th>    <td>0.00</td> <th>  Kurtosis:          </th>  <td>9.90</td>  \n",
       "</tr>\n",
       "</table><br/><br/>Warnings:<br/>[1] Covariance matrix calculated using the outer product of gradients (complex-step)."
      ],
      "text/latex": [
       "\\begin{center}\n",
       "\\begin{tabular}{lclc}\n",
       "\\toprule\n",
       "\\textbf{Dep. Variable:}          &        y         & \\textbf{  No. Observations:  } &    1997     \\\\\n",
       "\\textbf{Model:}                  & SARIMAX(2, 1, 3) & \\textbf{  Log Likelihood     } & -5801.490   \\\\\n",
       "\\textbf{Date:}                   & Mon, 12 Jun 2023 & \\textbf{  AIC                } & 11614.980   \\\\\n",
       "\\textbf{Time:}                   &     23:35:47     & \\textbf{  BIC                } & 11648.573   \\\\\n",
       "\\textbf{Sample:}                 &        0         & \\textbf{  HQIC               } & 11627.316   \\\\\n",
       "\\textbf{}                        &      - 1997      & \\textbf{                     } &             \\\\\n",
       "\\textbf{Covariance Type:}        &       opg        & \\textbf{                     } &             \\\\\n",
       "\\bottomrule\n",
       "\\end{tabular}\n",
       "\\begin{tabular}{lcccccc}\n",
       "                & \\textbf{coef} & \\textbf{std err} & \\textbf{z} & \\textbf{P$> |$z$|$} & \\textbf{[0.025} & \\textbf{0.975]}  \\\\\n",
       "\\midrule\n",
       "\\textbf{ar.L1}  &      -0.8673  &        0.034     &   -25.181  &         0.000        &       -0.935    &       -0.800     \\\\\n",
       "\\textbf{ar.L2}  &      -0.9222  &        0.031     &   -29.429  &         0.000        &       -0.984    &       -0.861     \\\\\n",
       "\\textbf{ma.L1}  &       0.9785  &        0.036     &    26.849  &         0.000        &        0.907    &        1.050     \\\\\n",
       "\\textbf{ma.L2}  &       0.9870  &        0.039     &    25.149  &         0.000        &        0.910    &        1.064     \\\\\n",
       "\\textbf{ma.L3}  &       0.1104  &        0.017     &     6.600  &         0.000        &        0.078    &        0.143     \\\\\n",
       "\\textbf{sigma2} &      19.5929  &        0.302     &    64.843  &         0.000        &       19.001    &       20.185     \\\\\n",
       "\\bottomrule\n",
       "\\end{tabular}\n",
       "\\begin{tabular}{lclc}\n",
       "\\textbf{Ljung-Box (L1) (Q):}     & 0.01 & \\textbf{  Jarque-Bera (JB):  } & 4315.72  \\\\\n",
       "\\textbf{Prob(Q):}                & 0.93 & \\textbf{  Prob(JB):          } &   0.00   \\\\\n",
       "\\textbf{Heteroskedasticity (H):} & 1.93 & \\textbf{  Skew:              } &   1.03   \\\\\n",
       "\\textbf{Prob(H) (two-sided):}    & 0.00 & \\textbf{  Kurtosis:          } &   9.90   \\\\\n",
       "\\bottomrule\n",
       "\\end{tabular}\n",
       "%\\caption{SARIMAX Results}\n",
       "\\end{center}\n",
       "\n",
       "Warnings: \\newline\n",
       " [1] Covariance matrix calculated using the outer product of gradients (complex-step)."
      ],
      "text/plain": [
       "<class 'statsmodels.iolib.summary.Summary'>\n",
       "\"\"\"\n",
       "                               SARIMAX Results                                \n",
       "==============================================================================\n",
       "Dep. Variable:                      y   No. Observations:                 1997\n",
       "Model:               SARIMAX(2, 1, 3)   Log Likelihood               -5801.490\n",
       "Date:                Mon, 12 Jun 2023   AIC                          11614.980\n",
       "Time:                        23:35:47   BIC                          11648.573\n",
       "Sample:                             0   HQIC                         11627.316\n",
       "                               - 1997                                         \n",
       "Covariance Type:                  opg                                         \n",
       "==============================================================================\n",
       "                 coef    std err          z      P>|z|      [0.025      0.975]\n",
       "------------------------------------------------------------------------------\n",
       "ar.L1         -0.8673      0.034    -25.181      0.000      -0.935      -0.800\n",
       "ar.L2         -0.9222      0.031    -29.429      0.000      -0.984      -0.861\n",
       "ma.L1          0.9785      0.036     26.849      0.000       0.907       1.050\n",
       "ma.L2          0.9870      0.039     25.149      0.000       0.910       1.064\n",
       "ma.L3          0.1104      0.017      6.600      0.000       0.078       0.143\n",
       "sigma2        19.5929      0.302     64.843      0.000      19.001      20.185\n",
       "===================================================================================\n",
       "Ljung-Box (L1) (Q):                   0.01   Jarque-Bera (JB):              4315.72\n",
       "Prob(Q):                              0.93   Prob(JB):                         0.00\n",
       "Heteroskedasticity (H):               1.93   Skew:                             1.03\n",
       "Prob(H) (two-sided):                  0.00   Kurtosis:                         9.90\n",
       "===================================================================================\n",
       "\n",
       "Warnings:\n",
       "[1] Covariance matrix calculated using the outer product of gradients (complex-step).\n",
       "\"\"\""
      ]
     },
     "execution_count": 294,
     "metadata": {},
     "output_type": "execute_result"
    }
   ],
   "source": [
    "from pmdarima import auto_arima\n",
    "stepwise_fit = auto_arima(df,trace=True,suppress_warnings=True)\n",
    "stepwise_fit.summary()"
   ]
  },
  {
   "cell_type": "code",
   "execution_count": 295,
   "metadata": {},
   "outputs": [],
   "source": [
    "from statsmodels.tsa.arima.model import ARIMA"
   ]
  },
  {
   "cell_type": "code",
   "execution_count": 296,
   "metadata": {},
   "outputs": [
    {
     "data": {
      "text/plain": [
       "1598"
      ]
     },
     "execution_count": 296,
     "metadata": {},
     "output_type": "execute_result"
    }
   ],
   "source": [
    "import math\n",
    "training_data_len = math.ceil(len(df)*0.8)\n",
    "training_data_len"
   ]
  },
  {
   "cell_type": "code",
   "execution_count": 310,
   "metadata": {},
   "outputs": [],
   "source": [
    "train = df.iloc[0:training_data_len,:]\n",
    "test =df.iloc[training_data_len:,:]"
   ]
  },
  {
   "cell_type": "code",
   "execution_count": 311,
   "metadata": {},
   "outputs": [
    {
     "name": "stderr",
     "output_type": "stream",
     "text": [
      "c:\\Users\\97798\\Downloads\\Stock Vision\\Stock prediction\\.venv\\Lib\\site-packages\\statsmodels\\tsa\\base\\tsa_model.py:473: ValueWarning: A date index has been provided, but it has no associated frequency information and so will be ignored when e.g. forecasting.\n",
      "  self._init_dates(dates, freq)\n",
      "c:\\Users\\97798\\Downloads\\Stock Vision\\Stock prediction\\.venv\\Lib\\site-packages\\statsmodels\\tsa\\base\\tsa_model.py:473: ValueWarning: A date index has been provided, but it has no associated frequency information and so will be ignored when e.g. forecasting.\n",
      "  self._init_dates(dates, freq)\n",
      "c:\\Users\\97798\\Downloads\\Stock Vision\\Stock prediction\\.venv\\Lib\\site-packages\\statsmodels\\tsa\\base\\tsa_model.py:473: ValueWarning: A date index has been provided, but it has no associated frequency information and so will be ignored when e.g. forecasting.\n",
      "  self._init_dates(dates, freq)\n"
     ]
    },
    {
     "data": {
      "text/html": [
       "<table class=\"simpletable\">\n",
       "<caption>SARIMAX Results</caption>\n",
       "<tr>\n",
       "  <th>Dep. Variable:</th>           <td>c</td>        <th>  No. Observations:  </th>   <td>1598</td>   \n",
       "</tr>\n",
       "<tr>\n",
       "  <th>Model:</th>            <td>ARIMA(2, 1, 3)</td>  <th>  Log Likelihood     </th> <td>-4418.201</td>\n",
       "</tr>\n",
       "<tr>\n",
       "  <th>Date:</th>            <td>Mon, 12 Jun 2023</td> <th>  AIC                </th> <td>8848.402</td> \n",
       "</tr>\n",
       "<tr>\n",
       "  <th>Time:</th>                <td>23:39:23</td>     <th>  BIC                </th> <td>8880.658</td> \n",
       "</tr>\n",
       "<tr>\n",
       "  <th>Sample:</th>                  <td>0</td>        <th>  HQIC               </th> <td>8860.381</td> \n",
       "</tr>\n",
       "<tr>\n",
       "  <th></th>                      <td> - 1598</td>     <th>                     </th>     <td> </td>    \n",
       "</tr>\n",
       "<tr>\n",
       "  <th>Covariance Type:</th>        <td>opg</td>       <th>                     </th>     <td> </td>    \n",
       "</tr>\n",
       "</table>\n",
       "<table class=\"simpletable\">\n",
       "<tr>\n",
       "     <td></td>       <th>coef</th>     <th>std err</th>      <th>z</th>      <th>P>|z|</th>  <th>[0.025</th>    <th>0.975]</th>  \n",
       "</tr>\n",
       "<tr>\n",
       "  <th>ar.L1</th>  <td>   -0.8924</td> <td>    0.098</td> <td>   -9.104</td> <td> 0.000</td> <td>   -1.085</td> <td>   -0.700</td>\n",
       "</tr>\n",
       "<tr>\n",
       "  <th>ar.L2</th>  <td>   -0.8386</td> <td>    0.083</td> <td>  -10.105</td> <td> 0.000</td> <td>   -1.001</td> <td>   -0.676</td>\n",
       "</tr>\n",
       "<tr>\n",
       "  <th>ma.L1</th>  <td>    0.9706</td> <td>    0.100</td> <td>    9.687</td> <td> 0.000</td> <td>    0.774</td> <td>    1.167</td>\n",
       "</tr>\n",
       "<tr>\n",
       "  <th>ma.L2</th>  <td>    0.8709</td> <td>    0.093</td> <td>    9.376</td> <td> 0.000</td> <td>    0.689</td> <td>    1.053</td>\n",
       "</tr>\n",
       "<tr>\n",
       "  <th>ma.L3</th>  <td>    0.0742</td> <td>    0.020</td> <td>    3.700</td> <td> 0.000</td> <td>    0.035</td> <td>    0.113</td>\n",
       "</tr>\n",
       "<tr>\n",
       "  <th>sigma2</th> <td>   14.8071</td> <td>    0.240</td> <td>   61.765</td> <td> 0.000</td> <td>   14.337</td> <td>   15.277</td>\n",
       "</tr>\n",
       "</table>\n",
       "<table class=\"simpletable\">\n",
       "<tr>\n",
       "  <th>Ljung-Box (L1) (Q):</th>     <td>0.01</td> <th>  Jarque-Bera (JB):  </th> <td>4553.32</td>\n",
       "</tr>\n",
       "<tr>\n",
       "  <th>Prob(Q):</th>                <td>0.93</td> <th>  Prob(JB):          </th>  <td>0.00</td>  \n",
       "</tr>\n",
       "<tr>\n",
       "  <th>Heteroskedasticity (H):</th> <td>0.79</td> <th>  Skew:              </th>  <td>1.23</td>  \n",
       "</tr>\n",
       "<tr>\n",
       "  <th>Prob(H) (two-sided):</th>    <td>0.01</td> <th>  Kurtosis:          </th>  <td>10.90</td> \n",
       "</tr>\n",
       "</table><br/><br/>Warnings:<br/>[1] Covariance matrix calculated using the outer product of gradients (complex-step)."
      ],
      "text/latex": [
       "\\begin{center}\n",
       "\\begin{tabular}{lclc}\n",
       "\\toprule\n",
       "\\textbf{Dep. Variable:}          &        c         & \\textbf{  No. Observations:  } &    1598     \\\\\n",
       "\\textbf{Model:}                  &  ARIMA(2, 1, 3)  & \\textbf{  Log Likelihood     } & -4418.201   \\\\\n",
       "\\textbf{Date:}                   & Mon, 12 Jun 2023 & \\textbf{  AIC                } &  8848.402   \\\\\n",
       "\\textbf{Time:}                   &     23:39:23     & \\textbf{  BIC                } &  8880.658   \\\\\n",
       "\\textbf{Sample:}                 &        0         & \\textbf{  HQIC               } &  8860.381   \\\\\n",
       "\\textbf{}                        &      - 1598      & \\textbf{                     } &             \\\\\n",
       "\\textbf{Covariance Type:}        &       opg        & \\textbf{                     } &             \\\\\n",
       "\\bottomrule\n",
       "\\end{tabular}\n",
       "\\begin{tabular}{lcccccc}\n",
       "                & \\textbf{coef} & \\textbf{std err} & \\textbf{z} & \\textbf{P$> |$z$|$} & \\textbf{[0.025} & \\textbf{0.975]}  \\\\\n",
       "\\midrule\n",
       "\\textbf{ar.L1}  &      -0.8924  &        0.098     &    -9.104  &         0.000        &       -1.085    &       -0.700     \\\\\n",
       "\\textbf{ar.L2}  &      -0.8386  &        0.083     &   -10.105  &         0.000        &       -1.001    &       -0.676     \\\\\n",
       "\\textbf{ma.L1}  &       0.9706  &        0.100     &     9.687  &         0.000        &        0.774    &        1.167     \\\\\n",
       "\\textbf{ma.L2}  &       0.8709  &        0.093     &     9.376  &         0.000        &        0.689    &        1.053     \\\\\n",
       "\\textbf{ma.L3}  &       0.0742  &        0.020     &     3.700  &         0.000        &        0.035    &        0.113     \\\\\n",
       "\\textbf{sigma2} &      14.8071  &        0.240     &    61.765  &         0.000        &       14.337    &       15.277     \\\\\n",
       "\\bottomrule\n",
       "\\end{tabular}\n",
       "\\begin{tabular}{lclc}\n",
       "\\textbf{Ljung-Box (L1) (Q):}     & 0.01 & \\textbf{  Jarque-Bera (JB):  } & 4553.32  \\\\\n",
       "\\textbf{Prob(Q):}                & 0.93 & \\textbf{  Prob(JB):          } &   0.00   \\\\\n",
       "\\textbf{Heteroskedasticity (H):} & 0.79 & \\textbf{  Skew:              } &   1.23   \\\\\n",
       "\\textbf{Prob(H) (two-sided):}    & 0.01 & \\textbf{  Kurtosis:          } &  10.90   \\\\\n",
       "\\bottomrule\n",
       "\\end{tabular}\n",
       "%\\caption{SARIMAX Results}\n",
       "\\end{center}\n",
       "\n",
       "Warnings: \\newline\n",
       " [1] Covariance matrix calculated using the outer product of gradients (complex-step)."
      ],
      "text/plain": [
       "<class 'statsmodels.iolib.summary.Summary'>\n",
       "\"\"\"\n",
       "                               SARIMAX Results                                \n",
       "==============================================================================\n",
       "Dep. Variable:                      c   No. Observations:                 1598\n",
       "Model:                 ARIMA(2, 1, 3)   Log Likelihood               -4418.201\n",
       "Date:                Mon, 12 Jun 2023   AIC                           8848.402\n",
       "Time:                        23:39:23   BIC                           8880.658\n",
       "Sample:                             0   HQIC                          8860.381\n",
       "                               - 1598                                         \n",
       "Covariance Type:                  opg                                         \n",
       "==============================================================================\n",
       "                 coef    std err          z      P>|z|      [0.025      0.975]\n",
       "------------------------------------------------------------------------------\n",
       "ar.L1         -0.8924      0.098     -9.104      0.000      -1.085      -0.700\n",
       "ar.L2         -0.8386      0.083    -10.105      0.000      -1.001      -0.676\n",
       "ma.L1          0.9706      0.100      9.687      0.000       0.774       1.167\n",
       "ma.L2          0.8709      0.093      9.376      0.000       0.689       1.053\n",
       "ma.L3          0.0742      0.020      3.700      0.000       0.035       0.113\n",
       "sigma2        14.8071      0.240     61.765      0.000      14.337      15.277\n",
       "===================================================================================\n",
       "Ljung-Box (L1) (Q):                   0.01   Jarque-Bera (JB):              4553.32\n",
       "Prob(Q):                              0.93   Prob(JB):                         0.00\n",
       "Heteroskedasticity (H):               0.79   Skew:                             1.23\n",
       "Prob(H) (two-sided):                  0.01   Kurtosis:                        10.90\n",
       "===================================================================================\n",
       "\n",
       "Warnings:\n",
       "[1] Covariance matrix calculated using the outer product of gradients (complex-step).\n",
       "\"\"\""
      ]
     },
     "execution_count": 311,
     "metadata": {},
     "output_type": "execute_result"
    }
   ],
   "source": [
    "model = ARIMA(train['c'], order=(2,1,3))\n",
    "# model = ARIMA(train['c'], order=(5,0,0))\n",
    "model = model.fit()\n",
    "model.summary()"
   ]
  },
  {
   "cell_type": "code",
   "execution_count": 315,
   "metadata": {},
   "outputs": [
    {
     "name": "stdout",
     "output_type": "stream",
     "text": [
      "t\n",
      "2021-02-03    337.486518\n",
      "2021-02-04    336.801577\n",
      "2021-02-07    338.427484\n",
      "2021-02-08    337.550875\n",
      "2021-02-09    336.969684\n",
      "                 ...    \n",
      "2023-05-07    337.607243\n",
      "2023-05-08    337.607243\n",
      "2023-05-09    337.607243\n",
      "2023-05-10    337.607243\n",
      "2023-05-11    337.607243\n",
      "Name: predicted_mean, Length: 399, dtype: float64\n"
     ]
    },
    {
     "name": "stderr",
     "output_type": "stream",
     "text": [
      "c:\\Users\\97798\\Downloads\\Stock Vision\\Stock prediction\\.venv\\Lib\\site-packages\\statsmodels\\tsa\\base\\tsa_model.py:836: ValueWarning: No supported index is available. Prediction results will be given with an integer index beginning at `start`.\n",
      "  return get_prediction_index(\n",
      "c:\\Users\\97798\\Downloads\\Stock Vision\\Stock prediction\\.venv\\Lib\\site-packages\\statsmodels\\tsa\\base\\tsa_model.py:836: FutureWarning: No supported index is available. In the next version, calling this method in a model without a supported index will result in an exception.\n",
      "  return get_prediction_index(\n",
      "c:\\Users\\97798\\Downloads\\Stock Vision\\Stock prediction\\.venv\\Lib\\site-packages\\statsmodels\\tsa\\statespace\\representation.py:374: FutureWarning: Unknown keyword arguments: dict_keys(['typ']).Passing unknown keyword arguments will raise a TypeError beginning in version 0.15.\n",
      "  warnings.warn(msg, FutureWarning)\n"
     ]
    }
   ],
   "source": [
    "start = len(train)\n",
    "end = len(train)+len(test)-1\n",
    "pred = model.predict(start=start, end=end, typ='levels')\n",
    "# print(pred)\n",
    "pred.index =df.index[start:end+1]\n",
    "print(pred)"
   ]
  },
  {
   "cell_type": "code",
   "execution_count": 313,
   "metadata": {},
   "outputs": [
    {
     "data": {
      "text/plain": [
       "<Axes: xlabel='t'>"
      ]
     },
     "execution_count": 313,
     "metadata": {},
     "output_type": "execute_result"
    },
    {
     "data": {
      "image/png": "[encoded data removed]",
      "text/plain": [
       "<Figure size 640x480 with 1 Axes>"
      ]
     },
     "metadata": {},
     "output_type": "display_data"
    }
   ],
   "source": [
    "pred.plot(legend=True)\n",
    "test['c'].plot(legend=True)\n"
   ]
  },
  {
   "cell_type": "code",
   "execution_count": 301,
   "metadata": {},
   "outputs": [
    {
     "data": {
      "text/plain": [
       "322.7449869156562"
      ]
     },
     "execution_count": 301,
     "metadata": {},
     "output_type": "execute_result"
    }
   ],
   "source": [
    "test['c'].mean()"
   ]
  },
  {
   "cell_type": "code",
   "execution_count": 302,
   "metadata": {},
   "outputs": [
    {
     "data": {
      "text/plain": [
       "6.243873501488167"
      ]
     },
     "execution_count": 302,
     "metadata": {},
     "output_type": "execute_result"
    }
   ],
   "source": [
    "from sklearn.metrics import mean_squared_error\n",
    "from math import sqrt\n",
    "rmse = sqrt(mean_squared_error(pred,test['c']))\n",
    "rmse"
   ]
  },
  {
   "cell_type": "code",
   "execution_count": 303,
   "metadata": {},
   "outputs": [
    {
     "name": "stderr",
     "output_type": "stream",
     "text": [
      "c:\\Users\\97798\\Downloads\\Stock Vision\\Stock prediction\\.venv\\Lib\\site-packages\\statsmodels\\tsa\\base\\tsa_model.py:473: ValueWarning: A date index has been provided, but it has no associated frequency information and so will be ignored when e.g. forecasting.\n",
      "  self._init_dates(dates, freq)\n",
      "c:\\Users\\97798\\Downloads\\Stock Vision\\Stock prediction\\.venv\\Lib\\site-packages\\statsmodels\\tsa\\base\\tsa_model.py:473: ValueWarning: A date index has been provided, but it has no associated frequency information and so will be ignored when e.g. forecasting.\n",
      "  self._init_dates(dates, freq)\n",
      "c:\\Users\\97798\\Downloads\\Stock Vision\\Stock prediction\\.venv\\Lib\\site-packages\\statsmodels\\tsa\\base\\tsa_model.py:473: ValueWarning: A date index has been provided, but it has no associated frequency information and so will be ignored when e.g. forecasting.\n",
      "  self._init_dates(dates, freq)\n"
     ]
    },
    {
     "data": {
      "text/html": [
       "<div>\n",
       "<style scoped>\n",
       "    .dataframe tbody tr th:only-of-type {\n",
       "        vertical-align: middle;\n",
       "    }\n",
       "\n",
       "    .dataframe tbody tr th {\n",
       "        vertical-align: top;\n",
       "    }\n",
       "\n",
       "    .dataframe thead th {\n",
       "        text-align: right;\n",
       "    }\n",
       "</style>\n",
       "<table border=\"1\" class=\"dataframe\">\n",
       "  <thead>\n",
       "    <tr style=\"text-align: right;\">\n",
       "      <th></th>\n",
       "      <th>c</th>\n",
       "    </tr>\n",
       "    <tr>\n",
       "      <th>t</th>\n",
       "      <th></th>\n",
       "    </tr>\n",
       "  </thead>\n",
       "  <tbody>\n",
       "    <tr>\n",
       "      <th>2023-05-07</th>\n",
       "      <td>183.0</td>\n",
       "    </tr>\n",
       "    <tr>\n",
       "      <th>2023-05-08</th>\n",
       "      <td>181.5</td>\n",
       "    </tr>\n",
       "    <tr>\n",
       "      <th>2023-05-09</th>\n",
       "      <td>183.2</td>\n",
       "    </tr>\n",
       "    <tr>\n",
       "      <th>2023-05-10</th>\n",
       "      <td>183.2</td>\n",
       "    </tr>\n",
       "    <tr>\n",
       "      <th>2023-05-11</th>\n",
       "      <td>182.3</td>\n",
       "    </tr>\n",
       "  </tbody>\n",
       "</table>\n",
       "</div>"
      ],
      "text/plain": [
       "                c\n",
       "t                \n",
       "2023-05-07  183.0\n",
       "2023-05-08  181.5\n",
       "2023-05-09  183.2\n",
       "2023-05-10  183.2\n",
       "2023-05-11  182.3"
      ]
     },
     "execution_count": 303,
     "metadata": {},
     "output_type": "execute_result"
    }
   ],
   "source": [
    "model2 = ARIMA(df,order=(2,1,3))\n",
    "model2 = model2.fit()\n",
    "df.tail()"
   ]
  },
  {
   "cell_type": "code",
   "execution_count": 304,
   "metadata": {},
   "outputs": [
    {
     "name": "stdout",
     "output_type": "stream",
     "text": [
      "2023-05-11    182.609118\n",
      "2023-05-12    182.386649\n",
      "2023-05-13    182.204769\n",
      "2023-05-14    182.567684\n",
      "2023-05-15    182.420649\n",
      "2023-05-16    182.213490\n",
      "2023-05-17    182.528764\n",
      "2023-05-18    182.446363\n",
      "2023-05-19    182.227081\n",
      "2023-05-20    182.493263\n",
      "2023-05-21    182.464621\n",
      "2023-05-22    182.243985\n",
      "2023-05-23    182.461764\n",
      "2023-05-24    182.476351\n",
      "2023-05-25    182.262860\n",
      "2023-05-26    182.434575\n",
      "2023-05-27    182.482527\n",
      "2023-05-28    182.282578\n",
      "2023-05-29    182.411778\n",
      "2023-05-30    182.484115\n",
      "2023-05-31    182.302224\n",
      "2023-06-01    182.393273\n",
      "2023-06-02    182.482046\n",
      "2023-06-03    182.321084\n",
      "2023-06-04    182.378823\n",
      "2023-06-05    182.477187\n",
      "2023-06-06    182.338625\n",
      "2023-06-07    182.368091\n",
      "2023-06-08    182.470318\n",
      "2023-06-09    182.354479\n",
      "2023-06-10    182.360674\n",
      "Freq: D, Name: ARIMA Predictions, dtype: float64\n"
     ]
    },
    {
     "name": "stderr",
     "output_type": "stream",
     "text": [
      "c:\\Users\\97798\\Downloads\\Stock Vision\\Stock prediction\\.venv\\Lib\\site-packages\\statsmodels\\tsa\\base\\tsa_model.py:836: ValueWarning: No supported index is available. Prediction results will be given with an integer index beginning at `start`.\n",
      "  return get_prediction_index(\n",
      "c:\\Users\\97798\\Downloads\\Stock Vision\\Stock prediction\\.venv\\Lib\\site-packages\\statsmodels\\tsa\\base\\tsa_model.py:836: FutureWarning: No supported index is available. In the next version, calling this method in a model without a supported index will result in an exception.\n",
      "  return get_prediction_index(\n",
      "c:\\Users\\97798\\Downloads\\Stock Vision\\Stock prediction\\.venv\\Lib\\site-packages\\statsmodels\\tsa\\statespace\\representation.py:374: FutureWarning: Unknown keyword arguments: dict_keys(['typ']).Passing unknown keyword arguments will raise a TypeError beginning in version 0.15.\n",
      "  warnings.warn(msg, FutureWarning)\n"
     ]
    }
   ],
   "source": [
    "index_future_dates = pd.date_range(start='2023-05-11' ,end='2023-06-10')\n",
    "pred=model2.predict(start=len(df),end=len(df)+30,typ='levels').rename('ARIMA Predictions')\n",
    "pred.index = index_future_dates\n",
    "print(pred)"
   ]
  },
  {
   "cell_type": "code",
   "execution_count": 305,
   "metadata": {},
   "outputs": [
    {
     "data": {
      "text/plain": [
       "<Axes: >"
      ]
     },
     "execution_count": 305,
     "metadata": {},
     "output_type": "execute_result"
    },
    {
     "data": {
      "image/png": "[encoded data removed]",
      "text/plain": [
       "<Figure size 1200x500 with 1 Axes>"
      ]
     },
     "metadata": {},
     "output_type": "display_data"
    }
   ],
   "source": [
    "pred.plot(figsize=(12,5),legend=True)"
   ]
  },
  {
   "cell_type": "code",
   "execution_count": null,
   "metadata": {},
   "outputs": [],
   "source": []
  },
  {
   "cell_type": "code",
   "execution_count": null,
   "metadata": {},
   "outputs": [],
   "source": []
  },
  {
   "cell_type": "code",
   "execution_count": null,
   "metadata": {},
   "outputs": [],
   "source": []
  },
  {
   "cell_type": "code",
   "execution_count": null,
   "metadata": {},
   "outputs": [],
   "source": []
  },
  {
   "cell_type": "code",
   "execution_count": null,
   "metadata": {},
   "outputs": [],
   "source": []
  },
  {
   "cell_type": "code",
   "execution_count": null,
   "metadata": {},
   "outputs": [],
   "source": []
  }
 ],
 "metadata": {
  "kernelspec": {
   "display_name": ".venv",
   "language": "python",
   "name": "python3"
  },
  "language_info": {
   "codemirror_mode": {
    "name": "ipython",
    "version": 3
   },
   "file_extension": ".py",
   "mimetype": "text/x-python",
   "name": "python",
   "nbconvert_exporter": "python",
   "pygments_lexer": "ipython3",
   "version": "3.11.3"
  },
  "orig_nbformat": 4
 },
 "nbformat": 4,
 "nbformat_minor": 2
}
