{
 "cells": [
  {
   "cell_type": "code",
   "execution_count": 319,
   "metadata": {},
   "outputs": [],
   "source": [
    "import numpy as np\n",
    "from tensorflow.keras.models import Sequential\n",
    "from tensorflow.keras.layers import LSTM\n",
    "from tensorflow.keras.layers import Dense, Dropout\n",
    "import pandas as pd\n",
    "from matplotlib import pyplot as plt\n",
    "from sklearn.preprocessing import StandardScaler, MinMaxScaler\n",
    "import seaborn as sns\n",
    "import math\n",
    "#from datetime import datetime"
   ]
  },
  {
   "cell_type": "code",
   "execution_count": 320,
   "metadata": {},
   "outputs": [
    {
     "data": {
      "text/html": [
       "<div>\n",
       "<style scoped>\n",
       "    .dataframe tbody tr th:only-of-type {\n",
       "        vertical-align: middle;\n",
       "    }\n",
       "\n",
       "    .dataframe tbody tr th {\n",
       "        vertical-align: top;\n",
       "    }\n",
       "\n",
       "    .dataframe thead th {\n",
       "        text-align: right;\n",
       "    }\n",
       "</style>\n",
       "<table border=\"1\" class=\"dataframe\">\n",
       "  <thead>\n",
       "    <tr style=\"text-align: right;\">\n",
       "      <th></th>\n",
       "      <th>Unnamed: 0</th>\n",
       "      <th>t</th>\n",
       "      <th>c</th>\n",
       "      <th>o</th>\n",
       "      <th>h</th>\n",
       "      <th>l</th>\n",
       "      <th>v</th>\n",
       "    </tr>\n",
       "  </thead>\n",
       "  <tbody>\n",
       "    <tr>\n",
       "      <th>0</th>\n",
       "      <td>0</td>\n",
       "      <td>2012-09-09 14:59:59</td>\n",
       "      <td>46.052427</td>\n",
       "      <td>46.052427</td>\n",
       "      <td>46.052427</td>\n",
       "      <td>42.894547</td>\n",
       "      <td>50</td>\n",
       "    </tr>\n",
       "    <tr>\n",
       "      <th>1</th>\n",
       "      <td>1</td>\n",
       "      <td>2012-09-10 14:59:59</td>\n",
       "      <td>50.526092</td>\n",
       "      <td>46.052427</td>\n",
       "      <td>50.526092</td>\n",
       "      <td>46.841898</td>\n",
       "      <td>254</td>\n",
       "    </tr>\n",
       "    <tr>\n",
       "      <th>2</th>\n",
       "      <td>2</td>\n",
       "      <td>2012-09-11 14:59:59</td>\n",
       "      <td>55.526070</td>\n",
       "      <td>50.526092</td>\n",
       "      <td>55.526070</td>\n",
       "      <td>51.315562</td>\n",
       "      <td>376</td>\n",
       "    </tr>\n",
       "    <tr>\n",
       "      <th>3</th>\n",
       "      <td>3</td>\n",
       "      <td>2012-09-12 14:59:59</td>\n",
       "      <td>61.052361</td>\n",
       "      <td>55.526070</td>\n",
       "      <td>61.052361</td>\n",
       "      <td>56.578697</td>\n",
       "      <td>1131</td>\n",
       "    </tr>\n",
       "    <tr>\n",
       "      <th>4</th>\n",
       "      <td>4</td>\n",
       "      <td>2012-09-13 14:59:59</td>\n",
       "      <td>67.104966</td>\n",
       "      <td>61.052361</td>\n",
       "      <td>67.104966</td>\n",
       "      <td>62.104988</td>\n",
       "      <td>27430</td>\n",
       "    </tr>\n",
       "  </tbody>\n",
       "</table>\n",
       "</div>"
      ],
      "text/plain": [
       "   Unnamed: 0                    t          c          o          h  \\\n",
       "0           0  2012-09-09 14:59:59  46.052427  46.052427  46.052427   \n",
       "1           1  2012-09-10 14:59:59  50.526092  46.052427  50.526092   \n",
       "2           2  2012-09-11 14:59:59  55.526070  50.526092  55.526070   \n",
       "3           3  2012-09-12 14:59:59  61.052361  55.526070  61.052361   \n",
       "4           4  2012-09-13 14:59:59  67.104966  61.052361  67.104966   \n",
       "\n",
       "           l      v  \n",
       "0  42.894547     50  \n",
       "1  46.841898    254  \n",
       "2  51.315562    376  \n",
       "3  56.578697   1131  \n",
       "4  62.104988  27430  "
      ]
     },
     "execution_count": 320,
     "metadata": {},
     "output_type": "execute_result"
    }
   ],
   "source": [
    "#Read the csv file\n",
    "df = pd.read_csv('Data/GBIMEfinal.csv')\n",
    "df.head() #7 columns, including the Date. "
   ]
  },
  {
   "cell_type": "code",
   "execution_count": 321,
   "metadata": {},
   "outputs": [],
   "source": [
    "df.drop('Unnamed: 0',axis=1,inplace=True)"
   ]
  },
  {
   "cell_type": "code",
   "execution_count": 322,
   "metadata": {},
   "outputs": [],
   "source": [
    "df['t'] = pd.to_datetime(df['t']).dt.date\n"
   ]
  },
  {
   "cell_type": "code",
   "execution_count": 323,
   "metadata": {},
   "outputs": [],
   "source": [
    "df2 = df.copy()\n"
   ]
  },
  {
   "cell_type": "code",
   "execution_count": 324,
   "metadata": {},
   "outputs": [],
   "source": [
    "df2.drop('t',axis=1,inplace=True)\n"
   ]
  },
  {
   "cell_type": "code",
   "execution_count": 377,
   "metadata": {},
   "outputs": [
    {
     "data": {
      "text/html": [
       "<div>\n",
       "<style scoped>\n",
       "    .dataframe tbody tr th:only-of-type {\n",
       "        vertical-align: middle;\n",
       "    }\n",
       "\n",
       "    .dataframe tbody tr th {\n",
       "        vertical-align: top;\n",
       "    }\n",
       "\n",
       "    .dataframe thead th {\n",
       "        text-align: right;\n",
       "    }\n",
       "</style>\n",
       "<table border=\"1\" class=\"dataframe\">\n",
       "  <thead>\n",
       "    <tr style=\"text-align: right;\">\n",
       "      <th></th>\n",
       "      <th>c</th>\n",
       "      <th>o</th>\n",
       "      <th>h</th>\n",
       "      <th>l</th>\n",
       "      <th>v</th>\n",
       "    </tr>\n",
       "  </thead>\n",
       "  <tbody>\n",
       "    <tr>\n",
       "      <th>c</th>\n",
       "      <td>1.000000</td>\n",
       "      <td>0.997744</td>\n",
       "      <td>0.998968</td>\n",
       "      <td>0.999034</td>\n",
       "      <td>0.551238</td>\n",
       "    </tr>\n",
       "    <tr>\n",
       "      <th>o</th>\n",
       "      <td>0.997744</td>\n",
       "      <td>1.000000</td>\n",
       "      <td>0.998792</td>\n",
       "      <td>0.998749</td>\n",
       "      <td>0.545597</td>\n",
       "    </tr>\n",
       "    <tr>\n",
       "      <th>h</th>\n",
       "      <td>0.998968</td>\n",
       "      <td>0.998792</td>\n",
       "      <td>1.000000</td>\n",
       "      <td>0.998593</td>\n",
       "      <td>0.557798</td>\n",
       "    </tr>\n",
       "    <tr>\n",
       "      <th>l</th>\n",
       "      <td>0.999034</td>\n",
       "      <td>0.998749</td>\n",
       "      <td>0.998593</td>\n",
       "      <td>1.000000</td>\n",
       "      <td>0.540675</td>\n",
       "    </tr>\n",
       "    <tr>\n",
       "      <th>v</th>\n",
       "      <td>0.551238</td>\n",
       "      <td>0.545597</td>\n",
       "      <td>0.557798</td>\n",
       "      <td>0.540675</td>\n",
       "      <td>1.000000</td>\n",
       "    </tr>\n",
       "  </tbody>\n",
       "</table>\n",
       "</div>"
      ],
      "text/plain": [
       "          c         o         h         l         v\n",
       "c  1.000000  0.997744  0.998968  0.999034  0.551238\n",
       "o  0.997744  1.000000  0.998792  0.998749  0.545597\n",
       "h  0.998968  0.998792  1.000000  0.998593  0.557798\n",
       "l  0.999034  0.998749  0.998593  1.000000  0.540675\n",
       "v  0.551238  0.545597  0.557798  0.540675  1.000000"
      ]
     },
     "execution_count": 377,
     "metadata": {},
     "output_type": "execute_result"
    }
   ],
   "source": [
    "df2.corr()"
   ]
  },
  {
   "cell_type": "code",
   "execution_count": 326,
   "metadata": {},
   "outputs": [
    {
     "data": {
      "text/html": [
       "<div>\n",
       "<style scoped>\n",
       "    .dataframe tbody tr th:only-of-type {\n",
       "        vertical-align: middle;\n",
       "    }\n",
       "\n",
       "    .dataframe tbody tr th {\n",
       "        vertical-align: top;\n",
       "    }\n",
       "\n",
       "    .dataframe thead th {\n",
       "        text-align: right;\n",
       "    }\n",
       "</style>\n",
       "<table border=\"1\" class=\"dataframe\">\n",
       "  <thead>\n",
       "    <tr style=\"text-align: right;\">\n",
       "      <th></th>\n",
       "      <th>t</th>\n",
       "      <th>c</th>\n",
       "      <th>o</th>\n",
       "      <th>h</th>\n",
       "      <th>l</th>\n",
       "      <th>v</th>\n",
       "    </tr>\n",
       "  </thead>\n",
       "  <tbody>\n",
       "    <tr>\n",
       "      <th>0</th>\n",
       "      <td>2012-09-09</td>\n",
       "      <td>46.052427</td>\n",
       "      <td>46.052427</td>\n",
       "      <td>46.052427</td>\n",
       "      <td>42.894547</td>\n",
       "      <td>50</td>\n",
       "    </tr>\n",
       "    <tr>\n",
       "      <th>1</th>\n",
       "      <td>2012-09-10</td>\n",
       "      <td>50.526092</td>\n",
       "      <td>46.052427</td>\n",
       "      <td>50.526092</td>\n",
       "      <td>46.841898</td>\n",
       "      <td>254</td>\n",
       "    </tr>\n",
       "    <tr>\n",
       "      <th>2</th>\n",
       "      <td>2012-09-11</td>\n",
       "      <td>55.526070</td>\n",
       "      <td>50.526092</td>\n",
       "      <td>55.526070</td>\n",
       "      <td>51.315562</td>\n",
       "      <td>376</td>\n",
       "    </tr>\n",
       "    <tr>\n",
       "      <th>3</th>\n",
       "      <td>2012-09-12</td>\n",
       "      <td>61.052361</td>\n",
       "      <td>55.526070</td>\n",
       "      <td>61.052361</td>\n",
       "      <td>56.578697</td>\n",
       "      <td>1131</td>\n",
       "    </tr>\n",
       "    <tr>\n",
       "      <th>4</th>\n",
       "      <td>2012-09-13</td>\n",
       "      <td>67.104966</td>\n",
       "      <td>61.052361</td>\n",
       "      <td>67.104966</td>\n",
       "      <td>62.104988</td>\n",
       "      <td>27430</td>\n",
       "    </tr>\n",
       "    <tr>\n",
       "      <th>...</th>\n",
       "      <td>...</td>\n",
       "      <td>...</td>\n",
       "      <td>...</td>\n",
       "      <td>...</td>\n",
       "      <td>...</td>\n",
       "      <td>...</td>\n",
       "    </tr>\n",
       "    <tr>\n",
       "      <th>1992</th>\n",
       "      <td>2023-05-07</td>\n",
       "      <td>183.000000</td>\n",
       "      <td>187.000000</td>\n",
       "      <td>187.000000</td>\n",
       "      <td>183.000000</td>\n",
       "      <td>49157</td>\n",
       "    </tr>\n",
       "    <tr>\n",
       "      <th>1993</th>\n",
       "      <td>2023-05-08</td>\n",
       "      <td>181.500000</td>\n",
       "      <td>186.000000</td>\n",
       "      <td>186.000000</td>\n",
       "      <td>180.200000</td>\n",
       "      <td>70629</td>\n",
       "    </tr>\n",
       "    <tr>\n",
       "      <th>1994</th>\n",
       "      <td>2023-05-09</td>\n",
       "      <td>183.200000</td>\n",
       "      <td>184.900000</td>\n",
       "      <td>184.900000</td>\n",
       "      <td>180.400000</td>\n",
       "      <td>59202</td>\n",
       "    </tr>\n",
       "    <tr>\n",
       "      <th>1995</th>\n",
       "      <td>2023-05-10</td>\n",
       "      <td>183.200000</td>\n",
       "      <td>185.000000</td>\n",
       "      <td>185.000000</td>\n",
       "      <td>182.200000</td>\n",
       "      <td>30993</td>\n",
       "    </tr>\n",
       "    <tr>\n",
       "      <th>1996</th>\n",
       "      <td>2023-05-11</td>\n",
       "      <td>182.300000</td>\n",
       "      <td>185.000000</td>\n",
       "      <td>185.000000</td>\n",
       "      <td>182.000000</td>\n",
       "      <td>30993</td>\n",
       "    </tr>\n",
       "  </tbody>\n",
       "</table>\n",
       "<p>1997 rows × 6 columns</p>\n",
       "</div>"
      ],
      "text/plain": [
       "               t           c           o           h           l      v\n",
       "0     2012-09-09   46.052427   46.052427   46.052427   42.894547     50\n",
       "1     2012-09-10   50.526092   46.052427   50.526092   46.841898    254\n",
       "2     2012-09-11   55.526070   50.526092   55.526070   51.315562    376\n",
       "3     2012-09-12   61.052361   55.526070   61.052361   56.578697   1131\n",
       "4     2012-09-13   67.104966   61.052361   67.104966   62.104988  27430\n",
       "...          ...         ...         ...         ...         ...    ...\n",
       "1992  2023-05-07  183.000000  187.000000  187.000000  183.000000  49157\n",
       "1993  2023-05-08  181.500000  186.000000  186.000000  180.200000  70629\n",
       "1994  2023-05-09  183.200000  184.900000  184.900000  180.400000  59202\n",
       "1995  2023-05-10  183.200000  185.000000  185.000000  182.200000  30993\n",
       "1996  2023-05-11  182.300000  185.000000  185.000000  182.000000  30993\n",
       "\n",
       "[1997 rows x 6 columns]"
      ]
     },
     "execution_count": 326,
     "metadata": {},
     "output_type": "execute_result"
    }
   ],
   "source": [
    "df"
   ]
  },
  {
   "cell_type": "code",
   "execution_count": 327,
   "metadata": {},
   "outputs": [
    {
     "name": "stdout",
     "output_type": "stream",
     "text": [
      "1982   2023-04-20\n",
      "1983   2023-04-23\n",
      "1984   2023-04-24\n",
      "1985   2023-04-25\n",
      "1986   2023-04-26\n",
      "1987   2023-04-27\n",
      "1988   2023-04-30\n",
      "1989   2023-05-02\n",
      "1990   2023-05-03\n",
      "1991   2023-05-04\n",
      "1992   2023-05-07\n",
      "1993   2023-05-08\n",
      "1994   2023-05-09\n",
      "1995   2023-05-10\n",
      "1996   2023-05-11\n",
      "Name: t, dtype: datetime64[ns]\n"
     ]
    }
   ],
   "source": [
    "#Separate dates for future plotting\n",
    "train_dates = pd.to_datetime(df['t'])\n",
    "print(train_dates.tail(15)) #Check last few dates."
   ]
  },
  {
   "cell_type": "code",
   "execution_count": 364,
   "metadata": {},
   "outputs": [
    {
     "data": {
      "text/plain": [
       "['c', 'v']"
      ]
     },
     "execution_count": 364,
     "metadata": {},
     "output_type": "execute_result"
    }
   ],
   "source": [
    "c = list(df)[1]\n",
    "v = list(df)[-1]\n",
    "cols =[c , v]\n",
    "cols"
   ]
  },
  {
   "cell_type": "code",
   "execution_count": 365,
   "metadata": {},
   "outputs": [
    {
     "data": {
      "text/html": [
       "<div>\n",
       "<style scoped>\n",
       "    .dataframe tbody tr th:only-of-type {\n",
       "        vertical-align: middle;\n",
       "    }\n",
       "\n",
       "    .dataframe tbody tr th {\n",
       "        vertical-align: top;\n",
       "    }\n",
       "\n",
       "    .dataframe thead th {\n",
       "        text-align: right;\n",
       "    }\n",
       "</style>\n",
       "<table border=\"1\" class=\"dataframe\">\n",
       "  <thead>\n",
       "    <tr style=\"text-align: right;\">\n",
       "      <th></th>\n",
       "      <th>c</th>\n",
       "      <th>v</th>\n",
       "    </tr>\n",
       "  </thead>\n",
       "  <tbody>\n",
       "    <tr>\n",
       "      <th>0</th>\n",
       "      <td>46.052427</td>\n",
       "      <td>50.0</td>\n",
       "    </tr>\n",
       "    <tr>\n",
       "      <th>1</th>\n",
       "      <td>50.526092</td>\n",
       "      <td>254.0</td>\n",
       "    </tr>\n",
       "    <tr>\n",
       "      <th>2</th>\n",
       "      <td>55.526070</td>\n",
       "      <td>376.0</td>\n",
       "    </tr>\n",
       "    <tr>\n",
       "      <th>3</th>\n",
       "      <td>61.052361</td>\n",
       "      <td>1131.0</td>\n",
       "    </tr>\n",
       "    <tr>\n",
       "      <th>4</th>\n",
       "      <td>67.104966</td>\n",
       "      <td>27430.0</td>\n",
       "    </tr>\n",
       "    <tr>\n",
       "      <th>...</th>\n",
       "      <td>...</td>\n",
       "      <td>...</td>\n",
       "    </tr>\n",
       "    <tr>\n",
       "      <th>1992</th>\n",
       "      <td>183.000000</td>\n",
       "      <td>49157.0</td>\n",
       "    </tr>\n",
       "    <tr>\n",
       "      <th>1993</th>\n",
       "      <td>181.500000</td>\n",
       "      <td>70629.0</td>\n",
       "    </tr>\n",
       "    <tr>\n",
       "      <th>1994</th>\n",
       "      <td>183.200000</td>\n",
       "      <td>59202.0</td>\n",
       "    </tr>\n",
       "    <tr>\n",
       "      <th>1995</th>\n",
       "      <td>183.200000</td>\n",
       "      <td>30993.0</td>\n",
       "    </tr>\n",
       "    <tr>\n",
       "      <th>1996</th>\n",
       "      <td>182.300000</td>\n",
       "      <td>30993.0</td>\n",
       "    </tr>\n",
       "  </tbody>\n",
       "</table>\n",
       "<p>1997 rows × 2 columns</p>\n",
       "</div>"
      ],
      "text/plain": [
       "               c        v\n",
       "0      46.052427     50.0\n",
       "1      50.526092    254.0\n",
       "2      55.526070    376.0\n",
       "3      61.052361   1131.0\n",
       "4      67.104966  27430.0\n",
       "...          ...      ...\n",
       "1992  183.000000  49157.0\n",
       "1993  181.500000  70629.0\n",
       "1994  183.200000  59202.0\n",
       "1995  183.200000  30993.0\n",
       "1996  182.300000  30993.0\n",
       "\n",
       "[1997 rows x 2 columns]"
      ]
     },
     "execution_count": 365,
     "metadata": {},
     "output_type": "execute_result"
    }
   ],
   "source": [
    "df_for_training = df[cols].astype(float)\n",
    "df_for_training"
   ]
  },
  {
   "cell_type": "code",
   "execution_count": 366,
   "metadata": {},
   "outputs": [
    {
     "data": {
      "text/plain": [
       "1598"
      ]
     },
     "execution_count": 366,
     "metadata": {},
     "output_type": "execute_result"
    }
   ],
   "source": [
    "training_data_len = math.ceil(len(df_for_training)*0.8)\n",
    "\n",
    "training_data_len"
   ]
  },
  {
   "cell_type": "code",
   "execution_count": 367,
   "metadata": {},
   "outputs": [],
   "source": [
    "scaler = StandardScaler()\n",
    "scaler = scaler.fit(df_for_training)\n",
    "df_for_training_scaled = scaler.transform(df_for_training)\n",
    "\n",
    "#scale the data\n",
    "# scaler = MinMaxScaler(feature_range=(0,1))\n",
    "# df_for_training_scaled = scaler.fit_transform(df_for_training)\n"
   ]
  },
  {
   "cell_type": "code",
   "execution_count": 368,
   "metadata": {},
   "outputs": [],
   "source": [
    "#training the dataset\n",
    "train_data = df_for_training_scaled[0:,:]"
   ]
  },
  {
   "cell_type": "code",
   "execution_count": 374,
   "metadata": {},
   "outputs": [],
   "source": [
    "trainX = []\n",
    "trainY = []"
   ]
  },
  {
   "cell_type": "code",
   "execution_count": 370,
   "metadata": {},
   "outputs": [
    {
     "name": "stdout",
     "output_type": "stream",
     "text": [
      "[array([-2.35388136, -2.29209326, -2.22303599, -2.14670952, -2.06311387,\n",
      "       -2.0449409 , -2.00859497, -1.990422  , -2.00859497, -2.0449409 ,\n",
      "       -2.09219062, -2.08855603, -2.08855603, -2.09219062, -2.09945981,\n",
      "       -2.1030944 , -2.10672899, -2.08855603, -2.08855603, -2.08128684,\n",
      "       -2.07401765, -2.07401765, -2.05947928, -2.07038306, -2.07765224,\n",
      "       -2.06674846, -2.07401765, -2.0449409 , -2.02313334, -2.00859497,\n",
      "       -1.97951822, -1.94680688, -1.91409553, -1.91046094, -1.88501879,\n",
      "       -1.86321123, -1.87048041, -1.92499932, -1.85230744, -1.83413448,\n",
      "       -1.77961557, -1.74326964, -1.74690423, -1.7105583 , -1.68511614,\n",
      "       -1.65967399, -1.60878968, -1.60878968, -1.64513561, -1.66694317,\n",
      "       -1.60878968, -1.53609781, -1.52155943, -1.58334752, -1.57607833,\n",
      "       -1.57244374, -1.55427077, -1.43069459, -1.39798325, -1.40525244])]\n",
      "[-1.3979832500132705]\n",
      "\n",
      "[array([-2.35388136, -2.29209326, -2.22303599, -2.14670952, -2.06311387,\n",
      "       -2.0449409 , -2.00859497, -1.990422  , -2.00859497, -2.0449409 ,\n",
      "       -2.09219062, -2.08855603, -2.08855603, -2.09219062, -2.09945981,\n",
      "       -2.1030944 , -2.10672899, -2.08855603, -2.08855603, -2.08128684,\n",
      "       -2.07401765, -2.07401765, -2.05947928, -2.07038306, -2.07765224,\n",
      "       -2.06674846, -2.07401765, -2.0449409 , -2.02313334, -2.00859497,\n",
      "       -1.97951822, -1.94680688, -1.91409553, -1.91046094, -1.88501879,\n",
      "       -1.86321123, -1.87048041, -1.92499932, -1.85230744, -1.83413448,\n",
      "       -1.77961557, -1.74326964, -1.74690423, -1.7105583 , -1.68511614,\n",
      "       -1.65967399, -1.60878968, -1.60878968, -1.64513561, -1.66694317,\n",
      "       -1.60878968, -1.53609781, -1.52155943, -1.58334752, -1.57607833,\n",
      "       -1.57244374, -1.55427077, -1.43069459, -1.39798325, -1.40525244]), array([-2.29209326, -2.22303599, -2.14670952, -2.06311387, -2.0449409 ,\n",
      "       -2.00859497, -1.990422  , -2.00859497, -2.0449409 , -2.09219062,\n",
      "       -2.08855603, -2.08855603, -2.09219062, -2.09945981, -2.1030944 ,\n",
      "       -2.10672899, -2.08855603, -2.08855603, -2.08128684, -2.07401765,\n",
      "       -2.07401765, -2.05947928, -2.07038306, -2.07765224, -2.06674846,\n",
      "       -2.07401765, -2.0449409 , -2.02313334, -2.00859497, -1.97951822,\n",
      "       -1.94680688, -1.91409553, -1.91046094, -1.88501879, -1.86321123,\n",
      "       -1.87048041, -1.92499932, -1.85230744, -1.83413448, -1.77961557,\n",
      "       -1.74326964, -1.74690423, -1.7105583 , -1.68511614, -1.65967399,\n",
      "       -1.60878968, -1.60878968, -1.64513561, -1.66694317, -1.60878968,\n",
      "       -1.53609781, -1.52155943, -1.58334752, -1.57607833, -1.57244374,\n",
      "       -1.55427077, -1.43069459, -1.39798325, -1.40525244, -1.39798325])]\n",
      "[-1.3979832500132705, -1.4452329662315588]\n",
      "\n"
     ]
    }
   ],
   "source": [
    "for i in range(60, len(df_for_training_scaled) - n_future +1):\n",
    "    trainX.append(df_for_training_scaled[i - n_past:i, 0:df_for_training.shape[1]])\n",
    "    trainY.append(df_for_training_scaled[i + n_future - 1:i + n_future, 0])\n"
   ]
  },
  {
   "cell_type": "code",
   "execution_count": 371,
   "metadata": {},
   "outputs": [],
   "source": [
    "trainX, trainY = np.array(trainX), np.array(trainY)"
   ]
  },
  {
   "cell_type": "code",
   "execution_count": 372,
   "metadata": {},
   "outputs": [
    {
     "name": "stdout",
     "output_type": "stream",
     "text": [
      "trainX shape == (1937, 60).\n",
      "trainY shape == (1937,).\n"
     ]
    }
   ],
   "source": [
    "print('trainX shape == {}.'.format(trainX.shape))\n",
    "print('trainY shape == {}.'.format(trainY.shape))"
   ]
  },
  {
   "cell_type": "code",
   "execution_count": 373,
   "metadata": {},
   "outputs": [
    {
     "ename": "IndexError",
     "evalue": "tuple index out of range",
     "output_type": "error",
     "traceback": [
      "\u001b[1;31m---------------------------------------------------------------------------\u001b[0m",
      "\u001b[1;31mIndexError\u001b[0m                                Traceback (most recent call last)",
      "Cell \u001b[1;32mIn[373], line 10\u001b[0m\n\u001b[0;32m      1\u001b[0m \u001b[39m# model = Sequential()\u001b[39;00m\n\u001b[0;32m      2\u001b[0m \u001b[39m# model.add(LSTM(64, activation='relu', input_shape=(trainX.shape[1], trainX.shape[2]), return_sequences=True))\u001b[39;00m\n\u001b[0;32m      3\u001b[0m \u001b[39m# model.add(LSTM(32, activation='relu', return_sequences=False))\u001b[39;00m\n\u001b[1;32m   (...)\u001b[0m\n\u001b[0;32m      6\u001b[0m \n\u001b[0;32m      7\u001b[0m \u001b[39m#build the lstm model\u001b[39;00m\n\u001b[0;32m      9\u001b[0m model \u001b[39m=\u001b[39m Sequential()\n\u001b[1;32m---> 10\u001b[0m model\u001b[39m.\u001b[39madd(LSTM(units \u001b[39m=\u001b[39m \u001b[39m50\u001b[39m, activation\u001b[39m=\u001b[39m\u001b[39m'\u001b[39m\u001b[39mrelu\u001b[39m\u001b[39m'\u001b[39m, return_sequences\u001b[39m=\u001b[39m\u001b[39mTrue\u001b[39;00m,  input_shape\u001b[39m=\u001b[39m(trainX\u001b[39m.\u001b[39mshape[\u001b[39m1\u001b[39m], trainX\u001b[39m.\u001b[39;49mshape[\u001b[39m2\u001b[39;49m])))\n\u001b[0;32m     11\u001b[0m model\u001b[39m.\u001b[39madd(Dropout(\u001b[39m0.2\u001b[39m))\n\u001b[0;32m     14\u001b[0m model\u001b[39m.\u001b[39madd(LSTM(units \u001b[39m=\u001b[39m \u001b[39m60\u001b[39m, activation\u001b[39m=\u001b[39m\u001b[39m'\u001b[39m\u001b[39mrelu\u001b[39m\u001b[39m'\u001b[39m, return_sequences\u001b[39m=\u001b[39m\u001b[39mTrue\u001b[39;00m))\n",
      "\u001b[1;31mIndexError\u001b[0m: tuple index out of range"
     ]
    }
   ],
   "source": [
    "# model = Sequential()\n",
    "# model.add(LSTM(64, activation='relu', input_shape=(trainX.shape[1], trainX.shape[2]), return_sequences=True))\n",
    "# model.add(LSTM(32, activation='relu', return_sequences=False))\n",
    "# model.add(Dropout(0.2))\n",
    "# model.add(Dense(trainY.shape[1]))\\\n",
    "\n",
    "#build the lstm model\n",
    "\n",
    "model = Sequential()\n",
    "model.add(LSTM(units = 50, activation='relu', return_sequences=True,  input_shape=(trainX.shape[1], trainX.shape[2])))\n",
    "model.add(Dropout(0.2))\n",
    "\n",
    "\n",
    "model.add(LSTM(units = 60, activation='relu', return_sequences=True))\n",
    "model.add(Dropout(0.3))\n",
    "model.add(Dense(trainY.shape[1]))\n",
    "\n",
    "model.add(LSTM(units = 80, activation='tanh', return_sequences=True))\n",
    "model.add(Dropout(0.4))\n",
    "model.add(Dense(trainY.shape[1]))\n",
    "\n",
    "model.add(LSTM(units = 120, activation='tanh'))\n",
    "model.add(Dropout(0.5))\n",
    "\n",
    "\n",
    "model.add(Dense(trainY.shape[1]))"
   ]
  },
  {
   "cell_type": "code",
   "execution_count": null,
   "metadata": {},
   "outputs": [],
   "source": [
    "model.compile(optimizer='adam', loss='mse')\n",
    "model.summary()\n"
   ]
  },
  {
   "cell_type": "code",
   "execution_count": null,
   "metadata": {},
   "outputs": [],
   "source": [
    "history = model.fit(trainX, trainY, epochs=25, batch_size=25, validation_split=0.1, verbose=1)"
   ]
  },
  {
   "cell_type": "code",
   "execution_count": null,
   "metadata": {},
   "outputs": [],
   "source": [
    "plt.plot(history.history['loss'], label='Training loss')\n",
    "plt.plot(history.history['val_loss'], label='Validation loss')\n",
    "plt.legend()"
   ]
  },
  {
   "cell_type": "code",
   "execution_count": null,
   "metadata": {},
   "outputs": [],
   "source": []
  }
 ],
 "metadata": {
  "kernelspec": {
   "display_name": "venv",
   "language": "python",
   "name": "python3"
  },
  "language_info": {
   "codemirror_mode": {
    "name": "ipython",
    "version": 3
   },
   "file_extension": ".py",
   "mimetype": "text/x-python",
   "name": "python",
   "nbconvert_exporter": "python",
   "pygments_lexer": "ipython3",
   "version": "3.11.4"
  },
  "orig_nbformat": 4
 },
 "nbformat": 4,
 "nbformat_minor": 2
}
